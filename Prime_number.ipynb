{
 "cells": [
  {
   "cell_type": "code",
   "execution_count": 3,
   "source": [
    "# Task : Write a program that takes a number from the user and prints the result to check if it is a prime number.\r\n",
    "number = int(input(\"Please enter your number :\"))\r\n",
    "list = []\r\n",
    "if number > 1 :\r\n",
    "    for i in range(2, number) :\r\n",
    "        if number % i == 0 :\r\n",
    "            list.append(i)\r\n",
    "\r\n",
    "if list :\r\n",
    "    print(\"The number {} is not a prime number because it is divisible by {}.\".format(number,list))\r\n",
    "else :\r\n",
    "    print(\">>> {} is a prime number.\".format(number))"
   ],
   "outputs": [
    {
     "output_type": "stream",
     "name": "stdout",
     "text": [
      "The number 33 is not a prime number because it is divisible by [3, 11].\n"
     ]
    }
   ],
   "metadata": {}
  }
 ],
 "metadata": {
  "orig_nbformat": 4,
  "language_info": {
   "name": "python",
   "version": "3.8.8",
   "mimetype": "text/x-python",
   "codemirror_mode": {
    "name": "ipython",
    "version": 3
   },
   "pygments_lexer": "ipython3",
   "nbconvert_exporter": "python",
   "file_extension": ".py"
  },
  "kernelspec": {
   "name": "python3",
   "display_name": "Python 3.8.8 64-bit ('base': conda)"
  },
  "interpreter": {
   "hash": "8ba3bc10590da345f804c898a7543b8d763623f3b1e5cdd1bace1300ddaa9478"
  }
 },
 "nbformat": 4,
 "nbformat_minor": 2
}