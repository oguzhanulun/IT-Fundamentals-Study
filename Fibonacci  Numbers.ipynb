{
 "cells": [
  {
   "cell_type": "code",
   "execution_count": 1,
   "source": [
    "# Task : Create a list consisting of Fibonacci numbers from 1 to 55 using control flow statements. The desired output is like : fibonacci →  [1, 1, 2, 3, 5, 8, 13, 21, 34, 55]\r\n",
    "fibo_list = [0, 1]\r\n",
    "for i in range(9) :\r\n",
    "    x = fibo_list[i] + fibo_list[i+1]\r\n",
    "    fibo_list.append(x)\r\n",
    "fibonacci = fibo_list\r\n",
    "fibonacci.pop(0)\r\n",
    "print(fibonacci)"
   ],
   "outputs": [
    {
     "output_type": "stream",
     "name": "stdout",
     "text": [
      "[1, 1, 2, 3, 5, 8, 13, 21, 34, 55]\n"
     ]
    }
   ],
   "metadata": {}
  }
 ],
 "metadata": {
  "orig_nbformat": 4,
  "language_info": {
   "name": "python",
   "version": "3.8.8",
   "mimetype": "text/x-python",
   "codemirror_mode": {
    "name": "ipython",
    "version": 3
   },
   "pygments_lexer": "ipython3",
   "nbconvert_exporter": "python",
   "file_extension": ".py"
  },
  "kernelspec": {
   "name": "python3",
   "display_name": "Python 3.8.8 64-bit ('base': conda)"
  },
  "interpreter": {
   "hash": "8ba3bc10590da345f804c898a7543b8d763623f3b1e5cdd1bace1300ddaa9478"
  }
 },
 "nbformat": 4,
 "nbformat_minor": 2
}